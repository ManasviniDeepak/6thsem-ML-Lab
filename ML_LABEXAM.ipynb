{
  "nbformat": 4,
  "nbformat_minor": 0,
  "metadata": {
    "colab": {
      "provenance": [],
      "authorship_tag": "ABX9TyMk65qjwYaYr/s7Wkwjrwy+",
      "include_colab_link": true
    },
    "kernelspec": {
      "name": "python3",
      "display_name": "Python 3"
    },
    "language_info": {
      "name": "python"
    }
  },
  "cells": [
    {
      "cell_type": "markdown",
      "metadata": {
        "id": "view-in-github",
        "colab_type": "text"
      },
      "source": [
        "<a href=\"https://colab.research.google.com/github/ManasviniDeepak/6thsem-ML-Lab/blob/main/ML_LABEXAM.ipynb\" target=\"_parent\"><img src=\"https://colab.research.google.com/assets/colab-badge.svg\" alt=\"Open In Colab\"/></a>"
      ]
    },
    {
      "cell_type": "markdown",
      "source": [
        " IRIS DATASET - SVM\n",
        "\n"
      ],
      "metadata": {
        "id": "_9bJPzjiGee9"
      }
    },
    {
      "cell_type": "code",
      "execution_count": null,
      "metadata": {
        "colab": {
          "base_uri": "https://localhost:8080/"
        },
        "id": "ZDMm2NAvGL-y",
        "outputId": "a9c39717-1368-4695-9185-70fd12cfd083"
      },
      "outputs": [
        {
          "output_type": "stream",
          "name": "stdout",
          "text": [
            "Linear Kernel Accuracy: 1.0\n",
            "Mean Squared Error: 0.0\n",
            "R-squared: 1.0\n"
          ]
        }
      ],
      "source": [
        "#SVM\n",
        "import pandas as pd\n",
        "from sklearn.model_selection import train_test_split\n",
        "from sklearn.preprocessing import LabelEncoder\n",
        "from sklearn.svm import SVC\n",
        "from sklearn.metrics import accuracy_score, confusion_matrix, mean_squared_error, r2_score\n",
        "\n",
        "# Load IRIS dataset\n",
        "iris_df = pd.read_csv(\"/content/iris (5).csv\")\n",
        "\n",
        "# Prepare features and labels\n",
        "X_iris = iris_df.drop(\"species\", axis=1)\n",
        "y_iris = iris_df[\"species\"]\n",
        "\n",
        "# Encode target labels\n",
        "label_encoder_iris = LabelEncoder()\n",
        "y_iris_encoded = label_encoder_iris.fit_transform(y_iris)\n",
        "\n",
        "# Split into training and testing data\n",
        "X_train_iris, X_test_iris, y_train_iris, y_test_iris = train_test_split(\n",
        "    X_iris, y_iris_encoded, test_size=0.2, random_state=42)\n",
        "\n",
        "# Train and evaluate Linear SVM\n",
        "svm_linear = SVC(kernel='linear')\n",
        "svm_linear.fit(X_train_iris, y_train_iris)\n",
        "y_pred_linear = svm_linear.predict(X_test_iris)\n",
        "\n",
        "print(\"Linear Kernel Accuracy:\", accuracy_score(y_test_iris, y_pred_linear))\n",
        "\n",
        "\n",
        "# Calculate and print Mean Squared Error\n",
        "mse = mean_squared_error(y_test_iris, y_pred_linear)\n",
        "print(\"Mean Squared Error:\", mse)\n",
        "\n",
        "# Calculate and print R-squared\n",
        "r2 = r2_score(y_test_iris, y_pred_linear)\n",
        "print(\"R-squared:\", r2)"
      ]
    },
    {
      "cell_type": "markdown",
      "source": [
        "Digits Dataset SVM"
      ],
      "metadata": {
        "id": "5llY8SzsJodz"
      }
    },
    {
      "cell_type": "code",
      "metadata": {
        "colab": {
          "base_uri": "https://localhost:8080/"
        },
        "id": "f5fbc507",
        "outputId": "9588c56a-73b7-4eed-8968-c72a0d0cc2b4"
      },
      "source": [
        "from sklearn.datasets import load_digits\n",
        "from sklearn.model_selection import train_test_split\n",
        "from sklearn.svm import SVC\n",
        "from sklearn.metrics import classification_report, accuracy_score\n",
        "\n",
        "# Load the Digits dataset\n",
        "digits = load_digits()\n",
        "X_digits, y_digits = digits.data, digits.target\n",
        "\n",
        "# Split the data into training and testing sets\n",
        "X_train_digits, X_test_digits, y_train_digits, y_test_digits = train_test_split(\n",
        "    X_digits, y_digits, test_size=0.2, random_state=42)\n",
        "\n",
        "# Initialize and train the SVM classifier\n",
        "svm_digits = SVC(kernel='linear')\n",
        "svm_digits.fit(X_train_digits, y_train_digits)\n",
        "\n",
        "# Make predictions on the test set\n",
        "y_pred_digits = svm_digits.predict(X_test_digits)\n",
        "\n",
        "# Evaluate the classifier\n",
        "print(\"SVM Classifier (Digits) Accuracy:\", accuracy_score(y_test_digits, y_pred_digits))\n",
        "print(\"SVM Classifier (Digits) Classification Report:\\n\", classification_report(y_test_digits, y_pred_digits))"
      ],
      "execution_count": null,
      "outputs": [
        {
          "output_type": "stream",
          "name": "stdout",
          "text": [
            "SVM Classifier (Digits) Accuracy: 0.9777777777777777\n",
            "SVM Classifier (Digits) Classification Report:\n",
            "               precision    recall  f1-score   support\n",
            "\n",
            "           0       1.00      1.00      1.00        33\n",
            "           1       0.97      1.00      0.98        28\n",
            "           2       1.00      1.00      1.00        33\n",
            "           3       0.97      0.94      0.96        34\n",
            "           4       0.98      0.98      0.98        46\n",
            "           5       0.96      1.00      0.98        47\n",
            "           6       1.00      1.00      1.00        35\n",
            "           7       0.97      0.97      0.97        34\n",
            "           8       1.00      0.97      0.98        30\n",
            "           9       0.95      0.93      0.94        40\n",
            "\n",
            "    accuracy                           0.98       360\n",
            "   macro avg       0.98      0.98      0.98       360\n",
            "weighted avg       0.98      0.98      0.98       360\n",
            "\n"
          ]
        }
      ]
    },
    {
      "cell_type": "markdown",
      "source": [
        "Linear Regression\n"
      ],
      "metadata": {
        "id": "8ND75objJcv6"
      }
    },
    {
      "cell_type": "code",
      "metadata": {
        "colab": {
          "base_uri": "https://localhost:8080/"
        },
        "id": "d6f70cf0",
        "outputId": "5ab83a3f-a380-43cf-e050-16997a0135cb"
      },
      "source": [
        "from sklearn.datasets import fetch_california_housing\n",
        "from sklearn.model_selection import train_test_split\n",
        "from sklearn.linear_model import LinearRegression\n",
        "from sklearn.metrics import mean_squared_error, r2_score\n",
        "\n",
        "# Load the California Housing dataset\n",
        "housing = fetch_california_housing()\n",
        "X, y = housing.data, housing.target\n",
        "\n",
        "# Split the data into training and testing sets\n",
        "X_train, X_test, y_train, y_test = train_test_split(X, y, test_size=0.2, random_state=42)\n",
        "\n",
        "# Initialize and train the Linear Regression model\n",
        "linear_reg = LinearRegression()\n",
        "linear_reg.fit(X_train, y_train)\n",
        "\n",
        "# Make predictions on the test set\n",
        "y_pred_reg = linear_reg.predict(X_test)\n",
        "\n",
        "# Calculate and print Mean Squared Error\n",
        "mse_reg = mean_squared_error(y_test, y_pred_reg)\n",
        "print(\"Linear Regression Mean Squared Error:\", mse_reg)\n",
        "\n",
        "# Calculate and print R-squared\n",
        "r2_reg = r2_score(y_test, y_pred_reg)\n",
        "print(\"Linear Regression R-squared:\", r2_reg)"
      ],
      "execution_count": null,
      "outputs": [
        {
          "output_type": "stream",
          "name": "stdout",
          "text": [
            "Linear Regression Mean Squared Error: 0.5558915986952422\n",
            "Linear Regression R-squared: 0.5757877060324524\n"
          ]
        }
      ]
    },
    {
      "cell_type": "markdown",
      "source": [
        "Random Forest\n"
      ],
      "metadata": {
        "id": "8gmZS3IUJaG0"
      }
    },
    {
      "cell_type": "code",
      "metadata": {
        "colab": {
          "base_uri": "https://localhost:8080/"
        },
        "id": "c4cb8a15",
        "outputId": "ceca918f-4a1e-400a-f1da-4a3936719463"
      },
      "source": [
        "from sklearn.ensemble import RandomForestRegressor\n",
        "from sklearn.metrics import mean_squared_error, r2_score\n",
        "\n",
        "# Initialize and train the Random Forest Regressor model\n",
        "random_forest_reg = RandomForestRegressor(random_state=42)\n",
        "random_forest_reg.fit(X_train, y_train)\n",
        "\n",
        "# Make predictions on the test set\n",
        "y_pred_rf = random_forest_reg.predict(X_test)\n",
        "\n",
        "# Calculate and print Mean Squared Error\n",
        "mse_rf = mean_squared_error(y_test, y_pred_rf)\n",
        "print(\"Random Forest Regressor Mean Squared Error:\", mse_rf)\n",
        "\n",
        "# Calculate and print R-squared\n",
        "r2_rf = r2_score(y_test, y_pred_rf)\n",
        "print(\"Random Forest Regressor R-squared:\", r2_rf)"
      ],
      "execution_count": null,
      "outputs": [
        {
          "output_type": "stream",
          "name": "stdout",
          "text": [
            "Random Forest Regressor Mean Squared Error: 0.2553684927247781\n",
            "Random Forest Regressor R-squared: 0.8051230593157366\n"
          ]
        }
      ]
    }
  ]
}